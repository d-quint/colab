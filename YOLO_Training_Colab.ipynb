{
  "cells": [
    {
      "cell_type": "markdown",
      "metadata": {
        "id": "view-in-github",
        "colab_type": "text"
      },
      "source": [
        "<a href=\"https://colab.research.google.com/github/d-quint/colab/blob/main/YOLO_Training_Colab.ipynb\" target=\"_parent\"><img src=\"https://colab.research.google.com/assets/colab-badge.svg\" alt=\"Open In Colab\"/></a>"
      ]
    },
    {
      "cell_type": "markdown",
      "id": "b902d7fa",
      "metadata": {
        "id": "b902d7fa"
      },
      "source": [
        "# YOLO Training Interface in Google Colab\n",
        "This notebook demonstrates how to set up and run the YOLO Training Interface in Google Colab."
      ]
    },
    {
      "cell_type": "markdown",
      "id": "93a0b8ca",
      "metadata": {
        "id": "93a0b8ca"
      },
      "source": [
        "## Step 1: Install Dependencies"
      ]
    },
    {
      "cell_type": "code",
      "execution_count": 1,
      "id": "f2e49429",
      "metadata": {
        "id": "f2e49429"
      },
      "outputs": [],
      "source": [
        "# Install the required dependencies\n",
        "!python -m pip install ultralytics>=8.0.0 rich>=10.0.0 pyyaml>=6.0 pandas>=1.3.0 matplotlib>=3.4.0 numpy>=1.20.0 ray>=2.0.0"
      ]
    },
    {
      "cell_type": "markdown",
      "id": "d6af0924",
      "metadata": {
        "id": "d6af0924"
      },
      "source": [
        "## Step 2: Upload the required files\n",
        "Upload the following files to this Colab session:\n",
        "1. program.py - The main YOLO training interface\n",
        "2. setup_env.py - The environment setup script"
      ]
    },
    {
      "cell_type": "code",
      "execution_count": null,
      "id": "37c750bb",
      "metadata": {
        "id": "37c750bb"
      },
      "outputs": [],
      "source": [
        "# Option 1: Upload via the Colab UI (click on the folder icon and upload files)\n",
        "\n",
        "# Option 2: Download files directly from Github (if you've pushed them to a repository)\n",
        "!wget https://raw.githubusercontent.com/yourusername/yolo-training/main/program.py\n",
        "!wget https://raw.githubusercontent.com/yourusername/yolo-training/main/setup_env.py"
      ]
    },
    {
      "cell_type": "markdown",
      "id": "df681667",
      "metadata": {
        "id": "df681667"
      },
      "source": [
        "## Step 3: Set up the Environment"
      ]
    },
    {
      "cell_type": "code",
      "execution_count": null,
      "id": "7915675f",
      "metadata": {
        "id": "7915675f"
      },
      "outputs": [],
      "source": [
        "# Run the setup script to create the necessary directory structure\n",
        "%run setup_env.py --download_models"
      ]
    },
    {
      "cell_type": "markdown",
      "id": "771ab208",
      "metadata": {
        "id": "771ab208"
      },
      "source": [
        "## Step 4: Prepare Your Dataset\n",
        "You can either use the sample dataset structure created by the setup script, or upload your own dataset. The dataset should follow the YOLOv8 format:\n",
        "\n",
        "```\n",
        "datasets/\n",
        "  your_dataset/\n",
        "    images/\n",
        "      train/\n",
        "      val/\n",
        "      test/ (optional)\n",
        "    labels/\n",
        "      train/\n",
        "      val/\n",
        "      test/ (optional)\n",
        "```\n",
        "\n",
        "And update the dataset.yaml file to point to your dataset."
      ]
    },
    {
      "cell_type": "code",
      "execution_count": null,
      "id": "6a41051e",
      "metadata": {
        "id": "6a41051e"
      },
      "outputs": [],
      "source": [
        "# If you need to upload a dataset from your local machine:\n",
        "from google.colab import files\n",
        "\n",
        "# Uncomment and use this if you want to upload a zip file of your dataset\n",
        "# uploaded = files.upload() # Choose your dataset zip file\n",
        "# !unzip -q dataset.zip -d /content/drive/MyDrive/YOLO_Training/datasets/"
      ]
    },
    {
      "cell_type": "markdown",
      "id": "c3c50db9",
      "metadata": {
        "id": "c3c50db9"
      },
      "source": [
        "## Step 5: Run the YOLO Training Interface"
      ]
    },
    {
      "cell_type": "code",
      "execution_count": null,
      "id": "56a9d6a0",
      "metadata": {
        "id": "56a9d6a0"
      },
      "outputs": [],
      "source": [
        "# Change to the directory where the program.py is located\n",
        "%cd /content/drive/MyDrive/YOLO_Training\n",
        "\n",
        "# Run the program\n",
        "%run program.py"
      ]
    },
    {
      "cell_type": "markdown",
      "id": "3f20e850",
      "metadata": {
        "id": "3f20e850"
      },
      "source": [
        "## Optional: Monitor Training with TensorBoard\n",
        "YOLOv8 automatically creates TensorBoard logs which you can view in Colab."
      ]
    },
    {
      "cell_type": "code",
      "execution_count": null,
      "id": "c5f82eae",
      "metadata": {
        "id": "c5f82eae"
      },
      "outputs": [],
      "source": [
        "# Load the TensorBoard extension\n",
        "%load_ext tensorboard\n",
        "\n",
        "# Start TensorBoard\n",
        "%tensorboard --logdir /content/drive/MyDrive/YOLO_Training/runs"
      ]
    }
  ],
  "metadata": {
    "language_info": {
      "name": "python"
    },
    "colab": {
      "provenance": [],
      "gpuType": "T4",
      "include_colab_link": true
    },
    "kernelspec": {
      "name": "python3",
      "display_name": "Python 3"
    },
    "accelerator": "GPU"
  },
  "nbformat": 4,
  "nbformat_minor": 5
}