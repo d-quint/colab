{
 "cells": [
  {
   "cell_type": "markdown",
   "id": "b902d7fa",
   "metadata": {},
   "source": [
    "# YOLO Training Interface in Google Colab\n",
    "This notebook demonstrates how to set up and run the YOLO Training Interface in Google Colab."
   ]
  },
  {
   "cell_type": "markdown",
   "id": "93a0b8ca",
   "metadata": {},
   "source": [
    "## Step 1: Install Dependencies"
   ]
  },
  {
   "cell_type": "code",
   "execution_count": null,
   "id": "f2e49429",
   "metadata": {},
   "outputs": [],
   "source": [
    "# Install the required dependencies\n",
    "!python -m pip install ultralytics>=8.0.0 rich>=10.0.0 pyyaml>=6.0 pandas>=1.3.0 matplotlib>=3.4.0 numpy>=1.20.0 ray>=2.0.0 gdown>=4.6.0\n",
    "\n",
    "# Import necessary packages for this notebook\n",
    "import os\n",
    "import yaml"
   ]
  },
  {
   "cell_type": "markdown",
   "id": "d6af0924",
   "metadata": {},
   "source": [
    "## Step 2: Upload the required files\n",
    "Upload the following files to this Colab session:\n",
    "1. program.py - The main YOLO training interface\n",
    "2. setup_env.py - The environment setup script"
   ]
  },
  {
   "cell_type": "code",
   "execution_count": null,
   "id": "37c750bb",
   "metadata": {},
   "outputs": [],
   "source": [
    "# Download files directly from Github repository\n",
    "!wget https://raw.githubusercontent.com/d-quint/colab/refs/heads/main/program.py -O program.py\n",
    "!wget https://raw.githubusercontent.com/d-quint/colab/refs/heads/main/setup_env.py -O setup_env.py\n",
    "\n",
    "# Verify the files were downloaded correctly\n",
    "!ls -la program.py setup_env.py"
   ]
  },
  {
   "cell_type": "markdown",
   "id": "df681667",
   "metadata": {},
   "source": [
    "## Step 3: Set up the Environment"
   ]
  },
  {
   "cell_type": "code",
   "execution_count": null,
   "id": "7915675f",
   "metadata": {},
   "outputs": [],
   "source": [
    "# Run the setup script to create the necessary directory structure\n",
    "%run setup_env.py --download_models"
   ]
  },
  {
   "cell_type": "markdown",
   "id": "097dc957",
   "metadata": {},
   "source": [
    "## Fix Sample Model File\n",
    "\n",
    "The setup script creates a placeholder .pt file that isn't a real model. Let's replace it with a real YOLOv8 model."
   ]
  },
  {
   "cell_type": "code",
   "execution_count": null,
   "id": "3632c4c8",
   "metadata": {},
   "outputs": [],
   "source": [
    "# Fix the sample weight file by replacing it with a real YOLOv8 model\n",
    "import os\n",
    "from ultralytics import YOLO\n",
    "\n",
    "# Directory for the sample model\n",
    "sample_weights_dir = \"/content/drive/MyDrive/YOLO_Training/runs/detect/yolov8n_sample/weights\"\n",
    "sample_weights_file = os.path.join(sample_weights_dir, \"last.pt\")\n",
    "\n",
    "# Check if the sample weight file exists and is just a placeholder\n",
    "if os.path.exists(sample_weights_file):\n",
    "    with open(sample_weights_file, 'r') as f:\n",
    "        content = f.read()\n",
    "        if content.startswith(\"#\"):\n",
    "            print(\"Detected placeholder model file. Replacing with a real YOLOv8n model...\")\n",
    "            \n",
    "            # Download a real YOLOv8n model\n",
    "            model = YOLO(\"yolov8n.pt\")\n",
    "            \n",
    "            # Save the real model to the sample weights directory\n",
    "            os.remove(sample_weights_file)  # Remove the placeholder\n",
    "            model.save(sample_weights_file)  # Save the real model\n",
    "            \n",
    "            print(f\"✅ Successfully replaced placeholder with real model at: {sample_weights_file}\")\n",
    "else:\n",
    "    print(f\"Sample weights directory not found. Creating it...\")\n",
    "    os.makedirs(sample_weights_dir, exist_ok=True)\n",
    "    \n",
    "    # Download and save a real YOLOv8n model\n",
    "    model = YOLO(\"yolov8n.pt\")\n",
    "    model.save(sample_weights_file)\n",
    "    \n",
    "    print(f\"✅ Created real model at: {sample_weights_file}\")"
   ]
  },
  {
   "cell_type": "markdown",
   "id": "771ab208",
   "metadata": {},
   "source": [
    "## Step 4: Prepare Your Dataset\n",
    "You can either use the sample dataset structure created by the setup script, or upload your own dataset. The dataset should follow the YOLOv8 format:\n",
    "\n",
    "```\n",
    "datasets/\n",
    "  your_dataset/\n",
    "    images/\n",
    "      train/\n",
    "      val/\n",
    "      test/ (optional)\n",
    "    labels/\n",
    "      train/\n",
    "      val/\n",
    "      test/ (optional)\n",
    "```\n",
    "\n",
    "And update the dataset.yaml file to point to your dataset."
   ]
  },
  {
   "cell_type": "code",
   "execution_count": null,
   "id": "6a41051e",
   "metadata": {},
   "outputs": [],
   "source": [
    "# Option 1: Download dataset from Google Drive using gdown\n",
    "import gdown\n",
    "\n",
    "# Google Drive file ID\n",
    "file_id = \"19Mzi4Ueqyh3i634c9oUvP4NEskwoB86z\"\n",
    "output_path = \"dataset.zip\"\n",
    "\n",
    "# Download the file\n",
    "print(\"Downloading dataset from Google Drive...\")\n",
    "gdown.download(id=file_id, output=output_path, quiet=False)\n",
    "\n",
    "# Extract to the datasets directory\n",
    "!mkdir -p /content/drive/MyDrive/YOLO_Training/datasets/custom_dataset\n",
    "!unzip -q dataset.zip -d /content/drive/MyDrive/YOLO_Training/datasets/custom_dataset\n",
    "!rm dataset.zip\n",
    "\n",
    "# Check the downloaded dataset structure\n",
    "print(\"\\nDownloaded dataset structure:\")\n",
    "!ls -la /content/drive/MyDrive/YOLO_Training/datasets/custom_dataset\n",
    "\n",
    "# Option 2: Download a dataset directly from Roboflow (alternative method)\n",
    "# !curl -L \"https://app.roboflow.com/ds/9oNEAZK93B?key=BjWc8uu2z1\" > roboflow.zip\n",
    "# !unzip -q roboflow.zip -d /content/drive/MyDrive/YOLO_Training/datasets/roboflow\n",
    "# !rm roboflow.zip\n",
    "# !ls -la /content/drive/MyDrive/YOLO_Training/datasets/roboflow\n",
    "\n",
    "# Option 3: Upload a dataset from your local machine\n",
    "# from google.colab import files\n",
    "# uploaded = files.upload()  # Choose your dataset zip file\n",
    "# !unzip -q dataset.zip -d /content/drive/MyDrive/YOLO_Training/datasets/"
   ]
  },
  {
   "cell_type": "code",
   "execution_count": null,
   "id": "47c5c544",
   "metadata": {},
   "outputs": [],
   "source": [
    "# Update the dataset.yaml file to point to the downloaded dataset\n",
    "import yaml\n",
    "import os\n",
    "\n",
    "# Path where we want to save our dataset.yaml\n",
    "dataset_yaml = \"/content/drive/MyDrive/YOLO_Training/dataset.yaml\"\n",
    "\n",
    "# Look for yaml files in the dataset directory\n",
    "custom_dataset_dir = \"/content/drive/MyDrive/YOLO_Training/datasets/custom_dataset\"\n",
    "yaml_files = [f for f in os.listdir(custom_dataset_dir) if f.endswith('.yaml')]\n",
    "\n",
    "if yaml_files:\n",
    "    # Use the first yaml file found\n",
    "    dataset_config_path = os.path.join(custom_dataset_dir, yaml_files[0])\n",
    "    print(f\"Found dataset config: {dataset_config_path}\")\n",
    "    \n",
    "    # Read the yaml file\n",
    "    with open(dataset_config_path, 'r') as f:\n",
    "        data = yaml.safe_load(f)\n",
    "    \n",
    "    # Update paths to be absolute\n",
    "    data['path'] = custom_dataset_dir\n",
    "    \n",
    "    # Save to our main dataset.yaml location\n",
    "    with open(dataset_yaml, 'w') as f:\n",
    "        yaml.dump(data, f, default_flow_style=False)\n",
    "    \n",
    "    print(f\"Updated {dataset_yaml} with dataset configuration\")\n",
    "    print(\"\\nDataset configuration:\")\n",
    "    with open(dataset_yaml, 'r') as f:\n",
    "        print(f.read())\n",
    "else:\n",
    "    print(f\"Warning: No YAML configuration found in {custom_dataset_dir}\")\n",
    "    print(\"Creating a default dataset.yaml file. You may need to update it manually.\")\n",
    "    \n",
    "    # Create a default dataset.yaml\n",
    "    default_config = {\n",
    "        'path': custom_dataset_dir,\n",
    "        'train': 'images/train',\n",
    "        'val': 'images/val',\n",
    "        'test': 'images/test',\n",
    "        'names': {\n",
    "            0: 'object',  # Default class name\n",
    "        }\n",
    "    }\n",
    "    \n",
    "    with open(dataset_yaml, 'w') as f:\n",
    "        yaml.dump(default_config, f, default_flow_style=False)\n",
    "    \n",
    "    print(\"\\nDefault dataset configuration created:\")\n",
    "    with open(dataset_yaml, 'r') as f:\n",
    "        print(f.read())"
   ]
  },
  {
   "cell_type": "markdown",
   "id": "c3c50db9",
   "metadata": {},
   "source": [
    "## Step 5: Run the YOLO Training Interface"
   ]
  },
  {
   "cell_type": "code",
   "execution_count": null,
   "id": "56a9d6a0",
   "metadata": {},
   "outputs": [],
   "source": [
    "# Change to the directory where the program.py is located\n",
    "%cd /content/drive/MyDrive/YOLO_Training\n",
    "\n",
    "# Run the program\n",
    "%run program.py"
   ]
  },
  {
   "cell_type": "markdown",
   "id": "3f20e850",
   "metadata": {},
   "source": [
    "## Optional: Monitor Training with TensorBoard\n",
    "YOLOv8 automatically creates TensorBoard logs which you can view in Colab."
   ]
  },
  {
   "cell_type": "code",
   "execution_count": null,
   "id": "c5f82eae",
   "metadata": {},
   "outputs": [],
   "source": [
    "# Load the TensorBoard extension\n",
    "%load_ext tensorboard\n",
    "\n",
    "# Start TensorBoard\n",
    "%tensorboard --logdir /content/drive/MyDrive/YOLO_Training/runs"
   ]
  },
  {
   "cell_type": "markdown",
   "id": "d08afba8",
   "metadata": {},
   "source": [
    "## Troubleshooting\n",
    "\n",
    "### Error: \"invalid load key, '#'\"\n",
    "\n",
    "If you encounter the error message \"invalid load key, '#'\" when trying to run hyperparameter tuning, this typically happens because the setup script creates placeholder model files instead of real ones. The fix is included in this notebook (see \"Fix Sample Model File\" section above).\n",
    "\n",
    "If you still encounter this issue:\n",
    "\n",
    "1. Check if the model file is a real PyTorch model and not a placeholder:"
   ]
  },
  {
   "cell_type": "code",
   "execution_count": null,
   "id": "9281df4a",
   "metadata": {},
   "outputs": [],
   "source": [
    "# Check if the model file is valid\n",
    "def check_model_file(model_path):\n",
    "    try:\n",
    "        # Try opening as text\n",
    "        with open(model_path, 'r') as f:\n",
    "            content = f.read(100)  # Read just the first 100 chars\n",
    "            \n",
    "            # If it starts with a # character, it's a placeholder text file\n",
    "            if content.strip().startswith('#'):\n",
    "                print(f\"❌ Error: {model_path} is a placeholder text file, not a real model.\")\n",
    "                print(\"Content preview:\")\n",
    "                print(content)\n",
    "                return False\n",
    "    except UnicodeDecodeError:\n",
    "        # If we can't read it as text, it's likely a binary file (good!)\n",
    "        print(f\"✅ {model_path} appears to be a binary file (likely a real model).\")\n",
    "        return True\n",
    "        \n",
    "    # Final check - try loading with YOLO\n",
    "    try:\n",
    "        from ultralytics import YOLO\n",
    "        model = YOLO(model_path)\n",
    "        print(f\"✅ Successfully loaded {model_path} as a YOLO model.\")\n",
    "        return True\n",
    "    except Exception as e:\n",
    "        print(f\"❌ Error loading model with YOLO: {str(e)}\")\n",
    "        return False\n",
    "\n",
    "# Check the sample model file\n",
    "sample_model_path = \"/content/drive/MyDrive/YOLO_Training/runs/detect/yolov8n_sample/weights/last.pt\"\n",
    "if os.path.exists(sample_model_path):\n",
    "    check_model_file(sample_model_path)\n",
    "else:\n",
    "    print(f\"Model file not found: {sample_model_path}\")"
   ]
  },
  {
   "cell_type": "markdown",
   "id": "c69fe66c",
   "metadata": {},
   "source": [
    "2. If the model file is invalid, replace it with a real one:"
   ]
  },
  {
   "cell_type": "code",
   "execution_count": null,
   "id": "6821e44a",
   "metadata": {},
   "outputs": [],
   "source": [
    "# Replace an invalid model file with a real one\n",
    "def replace_invalid_model(model_path):\n",
    "    print(f\"Replacing invalid model at {model_path} with a real YOLOv8n model...\")\n",
    "    \n",
    "    # Make sure directory exists\n",
    "    os.makedirs(os.path.dirname(model_path), exist_ok=True)\n",
    "    \n",
    "    # Download a real YOLOv8n model\n",
    "    from ultralytics import YOLO\n",
    "    model = YOLO(\"yolov8n.pt\")\n",
    "    \n",
    "    # Remove old file if it exists\n",
    "    if os.path.exists(model_path):\n",
    "        os.remove(model_path)\n",
    "        \n",
    "    # Save the real model\n",
    "    model.save(model_path)\n",
    "    print(f\"✅ Successfully replaced with real model at: {model_path}\")\n",
    "    return True\n",
    "\n",
    "# Uncomment and run if needed\n",
    "# replace_invalid_model(\"/content/drive/MyDrive/YOLO_Training/runs/detect/yolov8n_sample/weights/last.pt\")"
   ]
  }
 ],
 "metadata": {
  "language_info": {
   "name": "python"
  }
 },
 "nbformat": 4,
 "nbformat_minor": 5
}
