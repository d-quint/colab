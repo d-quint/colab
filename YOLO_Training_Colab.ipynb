{
 "cells": [
  {
   "cell_type": "markdown",
   "id": "b902d7fa",
   "metadata": {},
   "source": [
    "# YOLO Training Interface in Google Colab\n",
    "This notebook demonstrates how to set up and run the YOLO Training Interface in Google Colab."
   ]
  },
  {
   "cell_type": "markdown",
   "id": "93a0b8ca",
   "metadata": {},
   "source": [
    "## Step 1: Install Dependencies"
   ]
  },
  {
   "cell_type": "code",
   "execution_count": null,
   "id": "f2e49429",
   "metadata": {},
   "outputs": [],
   "source": [
    "# Install the required dependencies\n",
    "!python -m pip install ultralytics>=8.0.0 rich>=10.0.0 pyyaml>=6.0 pandas>=1.3.0 matplotlib>=3.4.0 numpy>=1.20.0 ray>=2.0.0\n",
    "\n",
    "# Import necessary packages for this notebook\n",
    "import os\n",
    "import yaml"
   ]
  },
  {
   "cell_type": "markdown",
   "id": "d6af0924",
   "metadata": {},
   "source": [
    "## Step 2: Upload the required files\n",
    "Upload the following files to this Colab session:\n",
    "1. program.py - The main YOLO training interface\n",
    "2. setup_env.py - The environment setup script"
   ]
  },
  {
   "cell_type": "code",
   "execution_count": null,
   "id": "37c750bb",
   "metadata": {},
   "outputs": [],
   "source": [
    "# Download files directly from Github repository\n",
    "!wget https://raw.githubusercontent.com/d-quint/colab/refs/heads/main/program.py -O program.py\n",
    "!wget https://raw.githubusercontent.com/d-quint/colab/refs/heads/main/setup_env.py -O setup_env.py\n",
    "\n",
    "# Verify the files were downloaded correctly\n",
    "!ls -la program.py setup_env.py"
   ]
  },
  {
   "cell_type": "markdown",
   "id": "df681667",
   "metadata": {},
   "source": [
    "## Step 3: Set up the Environment"
   ]
  },
  {
   "cell_type": "code",
   "execution_count": null,
   "id": "7915675f",
   "metadata": {},
   "outputs": [],
   "source": [
    "# Run the setup script to create the necessary directory structure\n",
    "%run setup_env.py --download_models"
   ]
  },
  {
   "cell_type": "markdown",
   "id": "771ab208",
   "metadata": {},
   "source": [
    "## Step 4: Prepare Your Dataset\n",
    "You can either use the sample dataset structure created by the setup script, or upload your own dataset. The dataset should follow the YOLOv8 format:\n",
    "\n",
    "```\n",
    "datasets/\n",
    "  your_dataset/\n",
    "    images/\n",
    "      train/\n",
    "      val/\n",
    "      test/ (optional)\n",
    "    labels/\n",
    "      train/\n",
    "      val/\n",
    "      test/ (optional)\n",
    "```\n",
    "\n",
    "And update the dataset.yaml file to point to your dataset."
   ]
  },
  {
   "cell_type": "code",
   "execution_count": null,
   "id": "6a41051e",
   "metadata": {},
   "outputs": [],
   "source": [
    "# Option 1: Download a dataset directly from Roboflow\n",
    "!curl -L \"https://app.roboflow.com/ds/9oNEAZK93B?key=BjWc8uu2z1\" > roboflow.zip\n",
    "!unzip -q roboflow.zip -d /content/drive/MyDrive/YOLO_Training/datasets/roboflow\n",
    "!rm roboflow.zip\n",
    "\n",
    "# Check the downloaded dataset structure\n",
    "!ls -la /content/drive/MyDrive/YOLO_Training/datasets/roboflow\n",
    "\n",
    "# Option 2: If you need to upload a dataset from your local machine:\n",
    "# from google.colab import files\n",
    "# uploaded = files.upload() # Choose your dataset zip file\n",
    "# !unzip -q dataset.zip -d /content/drive/MyDrive/YOLO_Training/datasets/"
   ]
  },
  {
   "cell_type": "code",
   "execution_count": null,
   "id": "47c5c544",
   "metadata": {},
   "outputs": [],
   "source": [
    "# Update the dataset.yaml file to point to the Roboflow dataset\n",
    "import yaml\n",
    "import os\n",
    "\n",
    "# Path to the yaml file that came with the dataset (if any)\n",
    "roboflow_yaml = \"/content/drive/MyDrive/YOLO_Training/datasets/roboflow/data.yaml\"\n",
    "\n",
    "# Path where we want to save our dataset.yaml\n",
    "dataset_yaml = \"/content/drive/MyDrive/YOLO_Training/dataset.yaml\"\n",
    "\n",
    "# Read the Roboflow yaml if it exists\n",
    "if os.path.exists(roboflow_yaml):\n",
    "    with open(roboflow_yaml, 'r') as f:\n",
    "        data = yaml.safe_load(f)\n",
    "    \n",
    "    # Update paths to be absolute\n",
    "    data['path'] = '/content/drive/MyDrive/YOLO_Training/datasets/roboflow'\n",
    "    \n",
    "    # Save to our main dataset.yaml location\n",
    "    with open(dataset_yaml, 'w') as f:\n",
    "        yaml.dump(data, f, default_flow_style=False)\n",
    "    \n",
    "    print(f\"Updated {dataset_yaml} with Roboflow dataset configuration\")\n",
    "    print(\"\\nDataset configuration:\")\n",
    "    with open(dataset_yaml, 'r') as f:\n",
    "        print(f.read())\n",
    "else:\n",
    "    print(f\"Warning: Could not find {roboflow_yaml}. You'll need to configure dataset.yaml manually.\")"
   ]
  },
  {
   "cell_type": "markdown",
   "id": "c3c50db9",
   "metadata": {},
   "source": [
    "## Step 5: Run the YOLO Training Interface"
   ]
  },
  {
   "cell_type": "code",
   "execution_count": null,
   "id": "56a9d6a0",
   "metadata": {},
   "outputs": [],
   "source": [
    "# Change to the directory where the program.py is located\n",
    "%cd /content/drive/MyDrive/YOLO_Training\n",
    "\n",
    "# Run the program\n",
    "%run program.py"
   ]
  },
  {
   "cell_type": "markdown",
   "id": "3f20e850",
   "metadata": {},
   "source": [
    "## Optional: Monitor Training with TensorBoard\n",
    "YOLOv8 automatically creates TensorBoard logs which you can view in Colab."
   ]
  },
  {
   "cell_type": "code",
   "execution_count": null,
   "id": "c5f82eae",
   "metadata": {},
   "outputs": [],
   "source": [
    "# Load the TensorBoard extension\n",
    "%load_ext tensorboard\n",
    "\n",
    "# Start TensorBoard\n",
    "%tensorboard --logdir /content/drive/MyDrive/YOLO_Training/runs"
   ]
  }
 ],
 "metadata": {
  "language_info": {
   "name": "python"
  }
 },
 "nbformat": 4,
 "nbformat_minor": 5
}
